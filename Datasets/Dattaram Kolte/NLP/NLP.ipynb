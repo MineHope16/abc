{
 "cells": [
  {
   "cell_type": "markdown",
   "id": "849f5198",
   "metadata": {},
   "source": [
    "## Tokenization"
   ]
  },
  {
   "cell_type": "code",
   "execution_count": 2,
   "id": "dde8d180",
   "metadata": {},
   "outputs": [],
   "source": [
    "import nltk"
   ]
  },
  {
   "cell_type": "code",
   "execution_count": null,
   "id": "0eb9d85b",
   "metadata": {},
   "outputs": [],
   "source": []
  },
  {
   "cell_type": "markdown",
   "id": "0d0ef548",
   "metadata": {},
   "source": [
    "## Stop Words"
   ]
  },
  {
   "cell_type": "code",
   "execution_count": 29,
   "id": "bac511fe",
   "metadata": {},
   "outputs": [],
   "source": [
    "import nltk\n",
    "from nltk.corpus import stopwords\n",
    "# nltk.download('stopwords')\n"
   ]
  },
  {
   "cell_type": "code",
   "execution_count": null,
   "id": "8d22fb42",
   "metadata": {},
   "outputs": [],
   "source": []
  },
  {
   "cell_type": "markdown",
   "id": "b9845772",
   "metadata": {},
   "source": [
    "## n Grams"
   ]
  },
  {
   "cell_type": "code",
   "execution_count": 21,
   "id": "d15ceca1",
   "metadata": {},
   "outputs": [
    {
     "name": "stdout",
     "output_type": "stream",
     "text": [
      "All the work and no play makes jack a dull boy\n",
      "\n",
      "The tokens of the data:\n",
      " ['All', 'the', 'work', 'and', 'no', 'play', 'makes', 'jack', 'a', 'dull', 'boy']\n",
      "\n",
      "Trigram of the data:\n",
      "('All', 'the', 'work')\n",
      "('the', 'work', 'and')\n",
      "('work', 'and', 'no')\n",
      "('and', 'no', 'play')\n",
      "('no', 'play', 'makes')\n",
      "('play', 'makes', 'jack')\n",
      "('makes', 'jack', 'a')\n",
      "('jack', 'a', 'dull')\n",
      "('a', 'dull', 'boy')\n",
      "\n",
      "Quadgram of the data:\n",
      "('All', 'the', 'work', 'and')\n",
      "('the', 'work', 'and', 'no')\n",
      "('work', 'and', 'no', 'play')\n",
      "('and', 'no', 'play', 'makes')\n",
      "('no', 'play', 'makes', 'jack')\n",
      "('play', 'makes', 'jack', 'a')\n",
      "('makes', 'jack', 'a', 'dull')\n",
      "('jack', 'a', 'dull', 'boy')\n"
     ]
    }
   ],
   "source": [
    "import nltk\n",
    "from nltk.util import ngrams as ng\n",
    "from nltk.tokenize import word_tokenize as wt\n",
    "\n",
    "data = \"All the work and no play makes jack a dull boy\"\n",
    "print(data)\n",
    "\n",
    "#Tokenize the data\n",
    "tokens = wt(data)\n",
    "print(\"\\nThe tokens of the data:\\n\",tokens)\n",
    "\n",
    "# Generate the trigrams as (n=3)\n",
    "Ngrams = ng(tokens, n=3)\n",
    "print(\"\\nTrigram of the data:\")\n",
    "\n",
    "# Printing each trigram\n",
    "for i in Ngrams:\n",
    "    print(i)\n",
    "    \n",
    "# Generate the Quadgram as (n=3)\n",
    "Ngrams = ng(tokens, n=4)\n",
    "print(\"\\nQuadgram of the data:\")\n",
    "\n",
    "# Printing each trigram\n",
    "for i in Ngrams:\n",
    "    print(i)"
   ]
  }
 ],
 "metadata": {
  "kernelspec": {
   "display_name": "Python 3 (ipykernel)",
   "language": "python",
   "name": "python3"
  },
  "language_info": {
   "codemirror_mode": {
    "name": "ipython",
    "version": 3
   },
   "file_extension": ".py",
   "mimetype": "text/x-python",
   "name": "python",
   "nbconvert_exporter": "python",
   "pygments_lexer": "ipython3",
   "version": "3.10.9"
  }
 },
 "nbformat": 4,
 "nbformat_minor": 5
}
